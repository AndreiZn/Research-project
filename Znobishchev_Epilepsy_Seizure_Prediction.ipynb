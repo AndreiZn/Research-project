{
 "cells": [
  {
   "cell_type": "code",
   "execution_count": 1,
   "metadata": {},
   "outputs": [],
   "source": [
    "import numpy as np\n",
    "from scipy.io import loadmat\n",
    "import matplotlib.pyplot as plt\n",
    "%matplotlib inline\n",
    "import time\n",
    "from os import listdir\n",
    "import sys"
   ]
  },
  {
   "cell_type": "code",
   "execution_count": 2,
   "metadata": {},
   "outputs": [],
   "source": [
    "import torch, torch.nn as nn\n",
    "import torch.nn.functional as F\n",
    "from torch.autograd import Variable\n",
    "class Flatten(nn.Module):\n",
    "    def forward(self, input):\n",
    "        return input.view(input.size(0), -1)"
   ]
  },
  {
   "cell_type": "markdown",
   "metadata": {},
   "source": [
    "Dog_1_test_segment_0201.mat was damaged and was substituted by Dog_1_test_segment_0207.mat, but the name was left the same."
   ]
  },
  {
   "cell_type": "code",
   "execution_count": 3,
   "metadata": {},
   "outputs": [],
   "source": [
    "def my_simple_conv():\n",
    "    \n",
    "    model = nn.Sequential(nn.Conv2d(1, 32, 3, padding=1),\n",
    "                      nn.ReLU(),\n",
    "                      nn.MaxPool2d(2),\n",
    "                      \n",
    "                      nn.Conv2d(32, 64, 3, padding=1),\n",
    "                      nn.ReLU(),\n",
    "                      nn.MaxPool2d(2),\n",
    "                      \n",
    "                      Flatten(),\n",
    "                      \n",
    "                      nn.Linear(6400, 512),\n",
    "                      nn.ReLU(),\n",
    "                      nn.Linear(512, 2),\n",
    "                      nn.Softmax(dim=1))\n",
    "    return model"
   ]
  },
  {
   "cell_type": "code",
   "execution_count": 4,
   "metadata": {},
   "outputs": [],
   "source": [
    "def monster_network():\n",
    "    \n",
    "    model = nn.Sequential(\n",
    "                      nn.Conv2d(3, 32, 3, padding=1),\n",
    "                      nn.BatchNorm2d(num_features=32),\n",
    "                      nn.ReLU(),\n",
    "                      nn.MaxPool2d(2),\n",
    "                      \n",
    "                      nn.Conv2d(32, 64, 3, padding=1),\n",
    "                      nn.BatchNorm2d(num_features=64),\n",
    "                      nn.ReLU(),\n",
    "                      nn.MaxPool2d(2),\n",
    "                      \n",
    "                      nn.Conv2d(64, 128, 3, padding=1),\n",
    "                      nn.ReLU(),\n",
    "                      nn.Conv2d(128, 256, 3, padding=1),\n",
    "                      nn.ReLU(),\n",
    "                      nn.Conv2d(256, 512, 3),\n",
    "                      nn.ReLU(),\n",
    "                      \n",
    "                      nn.Dropout(0.1),\n",
    "        \n",
    "                      Flatten(),\n",
    "                      \n",
    "                      nn.Linear(18432, 512),\n",
    "                      nn.Dropout(0.1),\n",
    "        \n",
    "                      nn.Linear(512, 256),\n",
    "                      nn.BatchNorm2d(num_features=256),\n",
    "                      nn.ReLU(),\n",
    "        \n",
    "                      nn.Linear(256, 10),\n",
    "                      nn.Softmax(dim=1))\n",
    "    return model"
   ]
  },
  {
   "cell_type": "code",
   "execution_count": 5,
   "metadata": {},
   "outputs": [],
   "source": [
    "def compute_loss(X_batch, y_batch):\n",
    "    X_batch = Variable(torch.FloatTensor(X_batch))\n",
    "    y_batch = Variable(torch.LongTensor(y_batch))\n",
    "    logits = model(X_batch)\n",
    "    return F.cross_entropy(logits, y_batch).mean()"
   ]
  },
  {
   "cell_type": "code",
   "execution_count": 6,
   "metadata": {},
   "outputs": [],
   "source": [
    "def iterate_minibatches(X, y, batchsize):\n",
    "    indices = np.random.permutation(np.arange(len(X)))\n",
    "    for start in range(0, len(indices), batchsize):\n",
    "        ix = indices[start: start + batchsize]\n",
    "        yield X[ix], y[ix]"
   ]
  },
  {
   "cell_type": "markdown",
   "metadata": {},
   "source": []
  },
  {
   "cell_type": "code",
   "execution_count": 9,
   "metadata": {},
   "outputs": [],
   "source": [
    "# generate train and test data. EEG images are of the size num_electrodes x width\n",
    "\n",
    "def get_data(width=100): \n",
    "    \n",
    "    # read the first file:\n",
    "    filename = listdir('./Dog_1/')[1]\n",
    "    mat_file = loadmat('./Dog_1/'+filename)\n",
    "    # get only data (not header and other garbage)\n",
    "    #print(mat_file)\n",
    "    segment = mat_file[list(mat_file.keys())[3]]\n",
    "    segment = segment[0][0]\n",
    "    # duration of a clip, should be 10mins = 600sec:\n",
    "    duration = segment[1]\n",
    "    # frequency of EEG (number of measurements per second):\n",
    "    freq = segment[2]\n",
    "    # number of electrodes:\n",
    "    num_electrodes = segment[3].shape[1]\n",
    "    # sequence: the index of the data segment within the one hour series of clips. \n",
    "    # For example, preictal_segment_6.mat has a sequence number of 6, \n",
    "    # and represents the iEEG data from 50 to 60 minutes into the preictal data.\n",
    "    sequence = segment[4]\n",
    "    # EEG data:\n",
    "    eeg_data = np.array(segment[0], dtype=np.float)\n",
    "    \n",
    "    assert eeg_data.shape[0] == num_electrodes\n",
    "    assert eeg_data.shape[1] == np.round(duration*freq)\n",
    "    \n",
    "    train_files = np.sum([filename.find('test') == -1 for filename in listdir('./Dog_1/')])\n",
    "    test_files = np.sum([filename.find('test') != -1 for filename in listdir('./Dog_1/')])\n",
    "    \n",
    "    images_per_file = eeg_data.shape[1]//width\n",
    "    train_size = train_files*images_per_file\n",
    "    test_size = test_files*images_per_file\n",
    "    \n",
    "    X_train = np.zeros((train_size, 1, num_electrodes, width), dtype=np.int8)\n",
    "    X_test = np.zeros((test_size, 1, num_electrodes, width), dtype=np.int8)\n",
    "    y_train = np.zeros(train_size, dtype=np.int8)\n",
    "    \n",
    "    train_ind, test_ind = 0, 0\n",
    "    \n",
    "    for filename in listdir('./Dog_1/'):\n",
    "        mat_file = loadmat('./Dog_1/'+filename)\n",
    "        # get only data (not header and other garbage)\n",
    "        keys = list(mat_file.keys())\n",
    "        is_segment = [name.find('segment') != -1 for name in keys]\n",
    "        key_index = is_segment.index(True)\n",
    "        \n",
    "        segment = mat_file[list(mat_file.keys())[key_index]]\n",
    "        segment = segment[0][0]    \n",
    "        \n",
    "        # normalization:\n",
    "        data = np.array(segment[0], dtype=np.float)\n",
    "        img = data/np.max(data)\n",
    "        img = img - np.mean(img)\n",
    "        img = img/np.std(img)\n",
    "        img = img.reshape((1,1,img.shape[0],img.shape[1]))\n",
    "        \n",
    "        # if train_data:\n",
    "        if filename.find('test') == -1:\n",
    "            \n",
    "            for im in range(images_per_file):\n",
    "                im_index = train_ind*images_per_file + im\n",
    "                X_train[im_index, :, :] = img [:,:,:,width*im:width*(im+1)]\n",
    "            if filename.find('preictal') != -1:\n",
    "                y_train[train_ind*images_per_file:(train_ind+1)*images_per_file] = 1\n",
    "            train_ind+=1    \n",
    "        elif filename.find('test') != -1:\n",
    "            for im in range(images_per_file):\n",
    "                im_index = test_ind*images_per_file + im\n",
    "                X_test[im_index, :, :] = img[:,:,:,width*im:width*(im+1)]\n",
    "            test_ind+=1\n",
    "\n",
    "    #print(sys.getsizeof(X_train)/1024/1024, 'Mb ', sys.getsizeof(X_test)/1024/1024, 'Mb')\n",
    "        \n",
    "    return X_train, X_test, y_train"
   ]
  },
  {
   "cell_type": "code",
   "execution_count": 11,
   "metadata": {},
   "outputs": [],
   "source": [
    "X_train, X_test, y_train = get_data()"
   ]
  },
  {
   "cell_type": "code",
   "execution_count": 14,
   "metadata": {},
   "outputs": [],
   "source": [
    "y_train = np.array(y_train, dtype=np.int32)"
   ]
  },
  {
   "cell_type": "code",
   "execution_count": 15,
   "metadata": {},
   "outputs": [],
   "source": [
    "np.random.seed(42)\n",
    "idx_train = np.random.permutation(y_train.shape[0])\n",
    "X_train, y_train = X_train[idx_train], y_train[idx_train]"
   ]
  },
  {
   "cell_type": "code",
   "execution_count": 16,
   "metadata": {},
   "outputs": [],
   "source": [
    "X_train, y_train = X_train[:-20*2400], y_train[:-20*2400]\n",
    "X_val, y_val = X_train[-20*2400:], y_train[-20*2400:]"
   ]
  },
  {
   "cell_type": "markdown",
   "metadata": {},
   "source": [
    "__ Training __"
   ]
  },
  {
   "cell_type": "code",
   "execution_count": 95,
   "metadata": {},
   "outputs": [],
   "source": [
    "model = my_simple_conv()"
   ]
  },
  {
   "cell_type": "code",
   "execution_count": 96,
   "metadata": {},
   "outputs": [],
   "source": [
    "opt = torch.optim.Adam(model.parameters())\n",
    "\n",
    "train_loss = []\n",
    "val_accuracy = []"
   ]
  },
  {
   "cell_type": "code",
   "execution_count": 97,
   "metadata": {},
   "outputs": [
    {
     "name": "stdout",
     "output_type": "stream",
     "text": [
      "Epoch 1 of 1 took 3186.990s\n",
      "  training loss (in-iteration): \t0.355204\n",
      "  validation accuracy: \t\t\t95.82 %\n"
     ]
    }
   ],
   "source": [
    "num_epochs = 1 # total amount of full passes over training data\n",
    "batch_size = 80  # number of samples processed in one SGD iteration\n",
    "\n",
    "for epoch in range(num_epochs):\n",
    "    # In each epoch, we do a full pass over the training data:\n",
    "    start_time = time.time()\n",
    "    model.train(True) # enable dropout / batch_norm training behavior\n",
    "    for X_batch, y_batch in iterate_minibatches(X_train, y_train, batch_size):\n",
    "        # train on batch\n",
    "        \n",
    "        X_batch = np.array(X_batch, dtype=np.int32)\n",
    "        #print(X_batch.shape)\n",
    "        \n",
    "        loss = compute_loss(X_batch, y_batch)\n",
    "        loss.backward()\n",
    "        opt.step()\n",
    "        opt.zero_grad()\n",
    "        train_loss.append(loss.data.numpy())\n",
    "        \n",
    "    # And a full pass over the validation data:\n",
    "    model.train(False) # disable dropout / use averages for batch_norm\n",
    "    for X_batch, y_batch in iterate_minibatches(X_val, y_val, batch_size):\n",
    "        X_batch = np.array(X_batch, dtype=np.int32)\n",
    "        logits = model(Variable(torch.FloatTensor(X_batch)))\n",
    "        y_pred = logits.max(1)[1].data.numpy()\n",
    "        val_accuracy.append(np.mean(y_batch == y_pred))\n",
    "        \n",
    "      \n",
    "    #torch.save(model.state_dict(), './models/m_'+str(epoch))\n",
    "    \n",
    "    # Then we print the results for this epoch:\n",
    "    print(\"Epoch {} of {} took {:.3f}s\".format(\n",
    "        epoch + 1, num_epochs, time.time() - start_time))\n",
    "    print(\"  training loss (in-iteration): \\t{:.6f}\".format(\n",
    "        np.mean(train_loss[-len(X_train) // batch_size :])))\n",
    "    print(\"  validation accuracy: \\t\\t\\t{:.2f} %\".format(\n",
    "        np.mean(val_accuracy[-len(X_val) // batch_size :]) * 100))"
   ]
  },
  {
   "cell_type": "markdown",
   "metadata": {},
   "source": [
    "__ Testing __"
   ]
  },
  {
   "cell_type": "code",
   "execution_count": null,
   "metadata": {},
   "outputs": [],
   "source": [
    "accuracy = []\n",
    "\n",
    "for epoch in range(50):\n",
    "    \n",
    "    start_time = time.time()\n",
    "    \n",
    "    model = monster_network()\n",
    "    model.load_state_dict(torch.load('./models/m_'+str(epoch)))\n",
    "    \n",
    "    model.train(False) # disable dropout / use averages for batch_norm\n",
    "    test_batch_acc = []\n",
    "    for X_batch, y_batch in iterate_minibatches(X_test, y_test, 500):\n",
    "        logits = model(Variable(torch.FloatTensor(X_batch)))\n",
    "        y_pred = logits.max(1)[1].data.numpy()\n",
    "        test_batch_acc.append(np.mean(y_batch == y_pred))\n",
    "        \n",
    "    test_accuracy = np.mean(test_batch_acc)\n",
    "    print('Time to evaluate model #',epoch,' is ', time.time() - start_time, ', accuracy = ', test_accuracy)\n",
    "    \n",
    "    \n",
    "    accuracy.append(test_accuracy)\n",
    "    \n",
    "    \n",
    "test_accuracy = np.max(accuracy)\n",
    "ep_best = np.argmax(accuracy == test_accuracy)\n",
    "\n",
    "print(\"Final results:\")\n",
    "print(\"  test accuracy:\\t\\t{:.2f} %\".format(\n",
    "    test_accuracy * 100))\n",
    "\n",
    "if test_accuracy * 100 > 95:\n",
    "    print(\"Double-check, than consider applying for NIPS'18. SRSly.\")\n",
    "elif test_accuracy * 100 > 90:\n",
    "    print(\"U'r freakin' amazin'!\")\n",
    "elif test_accuracy * 100 > 80:\n",
    "    print(\"Achievement unlocked: 110lvl Warlock!\")\n",
    "elif test_accuracy * 100 > 70:\n",
    "    print(\"Achievement unlocked: 80lvl Warlock!\")\n",
    "elif test_accuracy * 100 > 60:\n",
    "    print(\"Achievement unlocked: 70lvl Warlock!\")\n",
    "elif test_accuracy * 100 > 50:\n",
    "    print(\"Achievement unlocked: 60lvl Warlock!\")\n",
    "else:\n",
    "    print(\"We need more magic! Follow instructons below\")"
   ]
  },
  {
   "cell_type": "markdown",
   "metadata": {},
   "source": [
    "### example of a vizualized dataset element:"
   ]
  },
  {
   "cell_type": "code",
   "execution_count": 98,
   "metadata": {},
   "outputs": [
    {
     "data": {
      "text/plain": [
       "<matplotlib.image.AxesImage at 0x7f00afde0ef0>"
      ]
     },
     "execution_count": 98,
     "metadata": {},
     "output_type": "execute_result"
    },
    {
     "data": {
      "image/png": "[encoded data removed]",
      "text/plain": [
       "<Figure size 432x288 with 1 Axes>"
      ]
     },
     "metadata": {},
     "output_type": "display_data"
    }
   ],
   "source": [
    "plt.imshow(X_train[0, :, :])"
   ]
  },
  {
   "cell_type": "markdown",
   "metadata": {},
   "source": [
    "### Draft for future work:"
   ]
  },
  {
   "cell_type": "code",
   "execution_count": 8,
   "metadata": {},
   "outputs": [],
   "source": [
    "x = loadmat('./Dog_1/Dog_1_preictal_segment_0006.mat')"
   ]
  },
  {
   "cell_type": "code",
   "execution_count": 20,
   "metadata": {},
   "outputs": [],
   "source": [
    "a = list(x.keys())"
   ]
  },
  {
   "cell_type": "code",
   "execution_count": 170,
   "metadata": {},
   "outputs": [],
   "source": [
    "c= [b.find('segment')==-1 for b in a]"
   ]
  },
  {
   "cell_type": "code",
   "execution_count": 171,
   "metadata": {},
   "outputs": [
    {
     "data": {
      "text/plain": [
       "[True, False, True, True]"
      ]
     },
     "execution_count": 171,
     "metadata": {},
     "output_type": "execute_result"
    }
   ],
   "source": [
    "c"
   ]
  },
  {
   "cell_type": "code",
   "execution_count": 172,
   "metadata": {},
   "outputs": [
    {
     "data": {
      "text/plain": [
       "0"
      ]
     },
     "execution_count": 172,
     "metadata": {},
     "output_type": "execute_result"
    }
   ],
   "source": [
    "c.index(True)"
   ]
  },
  {
   "cell_type": "code",
   "execution_count": 75,
   "metadata": {},
   "outputs": [
    {
     "data": {
      "text/plain": [
       "array([[  8,   2,  -1, ...,  -9, -20, -30],\n",
       "       [  6,  -7,  -6, ..., -19, -18, -16],\n",
       "       [-22, -29, -30, ...,  -5,   3,  10],\n",
       "       ...,\n",
       "       [-36, -14,  -5, ...,   7,   8,  11],\n",
       "       [  9,  14,  14, ...,  10,  17,  13],\n",
       "       [ 23,  22,  12, ..., -14, -10,  -8]], dtype=int16)"
      ]
     },
     "execution_count": 75,
     "metadata": {},
     "output_type": "execute_result"
    }
   ],
   "source": [
    "a[0][0][0]"
   ]
  },
  {
   "cell_type": "code",
   "execution_count": 6,
   "metadata": {},
   "outputs": [],
   "source": [
    "x = loadmat('./Dog_1/Dog_1_interictal_segment_0007.mat')"
   ]
  },
  {
   "cell_type": "code",
   "execution_count": 9,
   "metadata": {},
   "outputs": [],
   "source": [
    "a = x['preictal_segment_6']"
   ]
  },
  {
   "cell_type": "code",
   "execution_count": 10,
   "metadata": {},
   "outputs": [
    {
     "data": {
      "text/plain": [
       "array([[(array([[-23, -20, -28, ..., -15, -16, -29],\n",
       "       [ 13,  12,   4, ..., -14, -15, -25],\n",
       "       [ 76,  75,  82, ...,  16,  21,  23],\n",
       "       ...,\n",
       "       [-36, -35, -37, ...,  -5,  -1,  11],\n",
       "       [-19, -17, -15, ...,  -6,  -1,   1],\n",
       "       [ -1,  -1,  -2, ..., -11,  -1,   5]], dtype=int16), array([[600]], dtype=uint16), array([[399.6097561]]), array([[array(['NVC1202_32_002_Ecog_c001'], dtype='<U24'),\n",
       "        array(['NVC1202_32_002_Ecog_c002'], dtype='<U24'),\n",
       "        array(['NVC1202_32_002_Ecog_c003'], dtype='<U24'),\n",
       "        array(['NVC1202_32_002_Ecog_c004'], dtype='<U24'),\n",
       "        array(['NVC1202_32_002_Ecog_c005'], dtype='<U24'),\n",
       "        array(['NVC1202_32_002_Ecog_c006'], dtype='<U24'),\n",
       "        array(['NVC1202_32_002_Ecog_c007'], dtype='<U24'),\n",
       "        array(['NVC1202_32_002_Ecog_c008'], dtype='<U24'),\n",
       "        array(['NVC1202_32_002_Ecog_c009'], dtype='<U24'),\n",
       "        array(['NVC1202_32_002_Ecog_c010'], dtype='<U24'),\n",
       "        array(['NVC1202_32_002_Ecog_c011'], dtype='<U24'),\n",
       "        array(['NVC1202_32_002_Ecog_c012'], dtype='<U24'),\n",
       "        array(['NVC1202_32_002_Ecog_c013'], dtype='<U24'),\n",
       "        array(['NVC1202_32_002_Ecog_c014'], dtype='<U24'),\n",
       "        array(['NVC1202_32_002_Ecog_c015'], dtype='<U24'),\n",
       "        array(['NVC1202_32_002_Ecog_c016'], dtype='<U24')]], dtype=object), array([[6]], dtype=uint8))]],\n",
       "      dtype=[('data', 'O'), ('data_length_sec', 'O'), ('sampling_frequency', 'O'), ('channels', 'O'), ('sequence', 'O')])"
      ]
     },
     "execution_count": 10,
     "metadata": {},
     "output_type": "execute_result"
    }
   ],
   "source": [
    "a"
   ]
  },
  {
   "cell_type": "code",
   "execution_count": 13,
   "metadata": {},
   "outputs": [
    {
     "data": {
      "text/plain": [
       "112"
      ]
     },
     "execution_count": 13,
     "metadata": {},
     "output_type": "execute_result"
    }
   ],
   "source": [
    "sys.getsizeof(a)"
   ]
  },
  {
   "cell_type": "code",
   "execution_count": 73,
   "metadata": {},
   "outputs": [
    {
     "data": {
      "text/plain": [
       "array([[0, 0, 0, ..., 0, 0, 0],\n",
       "       [0, 0, 0, ..., 0, 0, 0],\n",
       "       [0, 0, 0, ..., 0, 0, 0],\n",
       "       ...,\n",
       "       [0, 0, 0, ..., 0, 0, 0],\n",
       "       [0, 0, 0, ..., 0, 0, 0],\n",
       "       [0, 0, 0, ..., 0, 0, 0]], dtype=int16)"
      ]
     },
     "execution_count": 73,
     "metadata": {},
     "output_type": "execute_result"
    }
   ],
   "source": [
    "X_train[45]"
   ]
  },
  {
   "cell_type": "code",
   "execution_count": 88,
   "metadata": {},
   "outputs": [
    {
     "data": {
      "text/plain": [
       "<matplotlib.image.AxesImage at 0x7f00aff0c128>"
      ]
     },
     "execution_count": 88,
     "metadata": {},
     "output_type": "execute_result"
    },
    {
     "data": {
      "image/png": "[encoded data removed]",
      "text/plain": [
       "<Figure size 432x288 with 1 Axes>"
      ]
     },
     "metadata": {},
     "output_type": "display_data"
    }
   ],
   "source": [
    "plt.imshow(X_train[0, :, 0:100])"
   ]
  },
  {
   "cell_type": "code",
   "execution_count": 99,
   "metadata": {},
   "outputs": [
    {
     "data": {
      "text/plain": [
       "<matplotlib.image.AxesImage at 0x7f00afe108d0>"
      ]
     },
     "execution_count": 99,
     "metadata": {},
     "output_type": "execute_result"
    },
    {
     "data": {
      "image/png": "[encoded data removed]",
      "text/plain": [
       "<Figure size 432x288 with 1 Axes>"
      ]
     },
     "metadata": {},
     "output_type": "display_data"
    }
   ],
   "source": [
    "plt.imshow(X_train[20, :, :])"
   ]
  },
  {
   "cell_type": "code",
   "execution_count": 89,
   "metadata": {},
   "outputs": [
    {
     "data": {
      "text/plain": [
       "<matplotlib.image.AxesImage at 0x7f00afebd940>"
      ]
     },
     "execution_count": 89,
     "metadata": {},
     "output_type": "execute_result"
    },
    {
     "data": {
      "image/png": "[encoded data removed]",
      "text/plain": [
       "<Figure size 432x288 with 1 Axes>"
      ]
     },
     "metadata": {},
     "output_type": "display_data"
    }
   ],
   "source": [
    "plt.imshow(X_train[0, :, 20*100:2100])"
   ]
  },
  {
   "cell_type": "code",
   "execution_count": null,
   "metadata": {},
   "outputs": [],
   "source": []
  }
 ],
 "metadata": {
  "kernelspec": {
   "display_name": "Python 3",
   "language": "python",
   "name": "python3"
  },
  "language_info": {
   "codemirror_mode": {
    "name": "ipython",
    "version": 3
   },
   "file_extension": ".py",
   "mimetype": "text/x-python",
   "name": "python",
   "nbconvert_exporter": "python",
   "pygments_lexer": "ipython3",
   "version": "3.5.2"
  }
 },
 "nbformat": 4,
 "nbformat_minor": 2
}
